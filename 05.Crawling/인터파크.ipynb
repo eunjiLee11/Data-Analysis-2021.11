{
 "cells": [
  {
   "cell_type": "code",
   "execution_count": 82,
   "metadata": {},
   "outputs": [],
   "source": [
    "import requests\n",
    "from urllib.parse import quote\n",
    "import pandas as pd\n",
    "from bs4 import BeautifulSoup"
   ]
  },
  {
   "cell_type": "markdown",
   "metadata": {},
   "source": [
    "### 1. 데이터 가져오기"
   ]
  },
  {
   "cell_type": "code",
   "execution_count": 84,
   "metadata": {},
   "outputs": [],
   "source": [
    "site = 'http://book.interpark.com'\n",
    "url = site + '/display/collectlist.do?_method=bestsellerHourNew&bookblockname=b_gnb&booklinkname=%BA%A3%BD%BA%C6%AE%C1%B8&bid1=bgnb_mn&bid2=LiveRanking&bid3=main&bid4='\n",
    "res = requests.get(url)\n",
    "html = res.text"
   ]
  },
  {
   "cell_type": "code",
   "execution_count": 53,
   "metadata": {},
   "outputs": [],
   "source": [
    "soup = BeautifulSoup(html, 'html.parser')"
   ]
  },
  {
   "cell_type": "code",
   "execution_count": 54,
   "metadata": {},
   "outputs": [
    {
     "data": {
      "text/plain": [
       "67"
      ]
     },
     "execution_count": 54,
     "metadata": {},
     "output_type": "execute_result"
    }
   ],
   "source": [
    "lis = soup.select_one('div.rankBestContentList').find_all('li')\n",
    "len(lis)"
   ]
  },
  {
   "cell_type": "markdown",
   "metadata": {},
   "source": [
    "## 2. 찾으려고 하는 데이터 찾기"
   ]
  },
  {
   "cell_type": "code",
   "execution_count": 58,
   "metadata": {},
   "outputs": [
    {
     "data": {
      "text/plain": [
       "15"
      ]
     },
     "execution_count": 58,
     "metadata": {},
     "output_type": "execute_result"
    }
   ],
   "source": [
    "lis = soup.select('div.rankBestContentList > ol > li')\n",
    "len(lis)"
   ]
  },
  {
   "cell_type": "markdown",
   "metadata": {},
   "source": [
    "### 3. 하나의 데이터로 원하는 정보 추출"
   ]
  },
  {
   "cell_type": "code",
   "execution_count": 59,
   "metadata": {},
   "outputs": [
    {
     "data": {
      "text/plain": [
       "'/product/BookDisplay.do?_method=detail&sc.shopNo=0000400000&sc.prdNo=354069935&sc.saNo=003003001&bid1=Best_zone&bid2=LiveRanking&bid3=PRD&bid4=001'"
      ]
     },
     "execution_count": 59,
     "metadata": {},
     "output_type": "execute_result"
    }
   ],
   "source": [
    "li =  lis[0]\n",
    "href = li.select_one('.coverImage').find('a')['href']\n",
    "href"
   ]
  },
  {
   "cell_type": "code",
   "execution_count": 85,
   "metadata": {},
   "outputs": [
    {
     "data": {
      "text/plain": [
       "'미드나잇 라이브러리(25만부 기념 퍼플 에디션)'"
      ]
     },
     "execution_count": 85,
     "metadata": {},
     "output_type": "execute_result"
    }
   ],
   "source": [
    "title = li.select_one('.itemName').get_text().strip()\n",
    "title"
   ]
  },
  {
   "cell_type": "code",
   "execution_count": 86,
   "metadata": {},
   "outputs": [
    {
     "data": {
      "text/plain": [
       "'매트 헤이그/노진선 역'"
      ]
     },
     "execution_count": 86,
     "metadata": {},
     "output_type": "execute_result"
    }
   ],
   "source": [
    "author = li.select_one('.author').get_text().strip()\n",
    "author"
   ]
  },
  {
   "cell_type": "code",
   "execution_count": 87,
   "metadata": {},
   "outputs": [
    {
     "data": {
      "text/plain": [
       "'인플루엔셜'"
      ]
     },
     "execution_count": 87,
     "metadata": {},
     "output_type": "execute_result"
    }
   ],
   "source": [
    "company = li.select_one('.company').get_text().strip()\n",
    "company"
   ]
  },
  {
   "cell_type": "code",
   "execution_count": 88,
   "metadata": {},
   "outputs": [
    {
     "data": {
      "text/plain": [
       "14220"
      ]
     },
     "execution_count": 88,
     "metadata": {},
     "output_type": "execute_result"
    }
   ],
   "source": [
    "price = li.select_one('.price > em'). get_text().strip()\n",
    "price = int(price.replace(',',''))\n",
    "price"
   ]
  },
  {
   "cell_type": "markdown",
   "metadata": {},
   "source": [
    "- 1 ~ 9위"
   ]
  },
  {
   "cell_type": "code",
   "execution_count": 89,
   "metadata": {},
   "outputs": [],
   "source": [
    "li.select_one('.rankBtn_crtl')"
   ]
  },
  {
   "cell_type": "code",
   "execution_count": 61,
   "metadata": {},
   "outputs": [
    {
     "data": {
      "text/plain": [
       "['rankBtn_ctrl', 'rkNum_B01']"
      ]
     },
     "execution_count": 61,
     "metadata": {},
     "output_type": "execute_result"
    }
   ],
   "source": [
    "li.select_one('.rankBtn_ctrl')['class']"
   ]
  },
  {
   "cell_type": "code",
   "execution_count": 62,
   "metadata": {},
   "outputs": [
    {
     "data": {
      "text/plain": [
       "'rkNum_B01'"
      ]
     },
     "execution_count": 62,
     "metadata": {},
     "output_type": "execute_result"
    }
   ],
   "source": [
    "li.select_one('.rankBtn_ctrl')['class'][1]"
   ]
  },
  {
   "cell_type": "code",
   "execution_count": 90,
   "metadata": {},
   "outputs": [
    {
     "data": {
      "text/plain": [
       "'1'"
      ]
     },
     "execution_count": 90,
     "metadata": {},
     "output_type": "execute_result"
    }
   ],
   "source": [
    "li.select_one('.rankBtn_ctrl')['class'][1][-1]"
   ]
  },
  {
   "cell_type": "code",
   "execution_count": 63,
   "metadata": {},
   "outputs": [
    {
     "data": {
      "text/plain": [
       "1"
      ]
     },
     "execution_count": 63,
     "metadata": {},
     "output_type": "execute_result"
    }
   ],
   "source": [
    "rank = li.select_one('.rankBtn_ctrl')['class']\n",
    "rank = int(rank[1][-1:])\n",
    "rank"
   ]
  },
  {
   "cell_type": "markdown",
   "metadata": {},
   "source": [
    "- 10 ~ 15위"
   ]
  },
  {
   "cell_type": "code",
   "execution_count": 64,
   "metadata": {},
   "outputs": [
    {
     "data": {
      "text/plain": [
       "[<span class=\"rankBtn_ctrl rkNum_M01\"></span>,\n",
       " <span class=\"rankBtn_ctrl rkNum_M02\"></span>]"
      ]
     },
     "execution_count": 64,
     "metadata": {},
     "output_type": "execute_result"
    }
   ],
   "source": [
    "li = lis[12]\n",
    "li.select('.rankBtn_ctrl')"
   ]
  },
  {
   "cell_type": "code",
   "execution_count": 92,
   "metadata": {},
   "outputs": [
    {
     "data": {
      "text/plain": [
       "['rankBtn_ctrl', 'rkNum_M01']"
      ]
     },
     "execution_count": 92,
     "metadata": {},
     "output_type": "execute_result"
    }
   ],
   "source": [
    "li.select('.rankBtn_ctrl')[0]['class']"
   ]
  },
  {
   "cell_type": "code",
   "execution_count": 93,
   "metadata": {},
   "outputs": [
    {
     "data": {
      "text/plain": [
       "'1'"
      ]
     },
     "execution_count": 93,
     "metadata": {},
     "output_type": "execute_result"
    }
   ],
   "source": [
    "li.select('.rankBtn_ctrl')[0]['class'][1][-1]"
   ]
  },
  {
   "cell_type": "code",
   "execution_count": 94,
   "metadata": {},
   "outputs": [
    {
     "data": {
      "text/plain": [
       "'5'"
      ]
     },
     "execution_count": 94,
     "metadata": {},
     "output_type": "execute_result"
    }
   ],
   "source": [
    "li.select('.rankBtn_ctrl')[1]['class'][1][-1]"
   ]
  },
  {
   "cell_type": "markdown",
   "metadata": {},
   "source": [
    "- 모든 경우에 대처"
   ]
  },
  {
   "cell_type": "code",
   "execution_count": 95,
   "metadata": {},
   "outputs": [
    {
     "data": {
      "text/plain": [
       "15"
      ]
     },
     "execution_count": 95,
     "metadata": {},
     "output_type": "execute_result"
    }
   ],
   "source": [
    "if len(li.select('.rankBtn_ctrl')) == 1:\n",
    "    rank = li.select('.rankBtn_ctrl')[0]['class'][1][-1]\n",
    "    rank = int(rank)\n",
    "else:\n",
    "    rank = li.select('.rankBtn_ctrl')[0]['class'][1][-1]\n",
    "    rank += li.select('.rankBtn_ctrl')[1]['class'][1][-1]\n",
    "    rank = int(rank)\n",
    "rank"
   ]
  },
  {
   "cell_type": "markdown",
   "metadata": {},
   "source": [
    "- Sub page"
   ]
  },
  {
   "cell_type": "code",
   "execution_count": 96,
   "metadata": {},
   "outputs": [],
   "source": [
    "url = site +href\n",
    "res = requests.get(url)\n",
    "sub_soup = BeautifulSoup(res.text, 'html.parser')"
   ]
  },
  {
   "cell_type": "code",
   "execution_count": 97,
   "metadata": {},
   "outputs": [
    {
     "data": {
      "text/plain": [
       "6"
      ]
     },
     "execution_count": 97,
     "metadata": {},
     "output_type": "execute_result"
    }
   ],
   "source": [
    "sub_lis = sub_soup.select('ul.bInfo_txt > li')\n",
    "len(sub_lis)"
   ]
  },
  {
   "cell_type": "code",
   "execution_count": 98,
   "metadata": {},
   "outputs": [
    {
     "data": {
      "text/plain": [
       "'발행 : 2021년 04월 28일'"
      ]
     },
     "execution_count": 98,
     "metadata": {},
     "output_type": "execute_result"
    }
   ],
   "source": [
    "sub_lis[-3].get_text()"
   ]
  },
  {
   "cell_type": "code",
   "execution_count": 99,
   "metadata": {},
   "outputs": [
    {
     "data": {
      "text/plain": [
       "'2021년 04월 28일'"
      ]
     },
     "execution_count": 99,
     "metadata": {},
     "output_type": "execute_result"
    }
   ],
   "source": [
    "date = sub_lis[-3].get_text().split(':')[1].strip()\n",
    "date"
   ]
  },
  {
   "cell_type": "code",
   "execution_count": 100,
   "metadata": {},
   "outputs": [
    {
     "data": {
      "text/plain": [
       "'20210428'"
      ]
     },
     "execution_count": 100,
     "metadata": {},
     "output_type": "execute_result"
    }
   ],
   "source": [
    "import re\n",
    "date = re.sub('[^0-9]','',date)\n",
    "date"
   ]
  },
  {
   "cell_type": "code",
   "execution_count": 101,
   "metadata": {},
   "outputs": [
    {
     "data": {
      "text/plain": [
       "'408'"
      ]
     },
     "execution_count": 101,
     "metadata": {},
     "output_type": "execute_result"
    }
   ],
   "source": [
    "page = sub_lis[-2].get_text().split(':')[1].strip()\n",
    "page"
   ]
  },
  {
   "cell_type": "markdown",
   "metadata": {},
   "source": [
    "### 4. 페이지에 있는 모든 데이터 추출"
   ]
  },
  {
   "cell_type": "code",
   "execution_count": 105,
   "metadata": {},
   "outputs": [],
   "source": [
    "lines = []\n",
    "for li in lis:\n",
    "    href = li.select_one('.coverImage').find('a')['href']\n",
    "    title = li.select_one('.itemName').get_text().strip()\n",
    "    author = li.select_one('.author').get_text().strip()\n",
    "    company = li.select_one('.company').get_text().strip()\n",
    "    price = li.select_one('.price > em'). get_text().strip()\n",
    "    price = int(price.replace(',',''))\n",
    "    if len(li.select('.rankBtn_ctrl')) == 1:\n",
    "        rank = li.select('.rankBtn_ctrl')[0]['class'][1][-1]\n",
    "        rank = int(rank)\n",
    "    else:\n",
    "        rank = li.select('.rankBtn_ctrl')[0]['class'][1][-1]\n",
    "        rank += li.select('.rankBtn_ctrl')[1]['class'][1][-1]\n",
    "        rank = int(rank)\n",
    "    url = site +href\n",
    "    res = requests.get(url)\n",
    "    sub_soup = BeautifulSoup(res.text,'html.parser')\n",
    "    sub_lis = sub_soup.select('ul.bInfo_txt > li')\n",
    "    date = sub_lis[-3].get_text().split(':')[1].strip()\n",
    "    date = re.sub('[^0-9]','',date)\n",
    "    page = int(sub_lis[-2].get_text().split(':')[1].strip())\n",
    "\n",
    "    lines.append([rank, title, author, company, price, date[2:], page])\n"
   ]
  },
  {
   "cell_type": "code",
   "execution_count": 106,
   "metadata": {},
   "outputs": [
    {
     "data": {
      "text/html": [
       "<div>\n",
       "<style scoped>\n",
       "    .dataframe tbody tr th:only-of-type {\n",
       "        vertical-align: middle;\n",
       "    }\n",
       "\n",
       "    .dataframe tbody tr th {\n",
       "        vertical-align: top;\n",
       "    }\n",
       "\n",
       "    .dataframe thead th {\n",
       "        text-align: right;\n",
       "    }\n",
       "</style>\n",
       "<table border=\"1\" class=\"dataframe\">\n",
       "  <thead>\n",
       "    <tr style=\"text-align: right;\">\n",
       "      <th></th>\n",
       "      <th>No</th>\n",
       "      <th>제목</th>\n",
       "      <th>저자</th>\n",
       "      <th>출판사</th>\n",
       "      <th>가격</th>\n",
       "      <th>발행일</th>\n",
       "      <th>쪽수</th>\n",
       "    </tr>\n",
       "  </thead>\n",
       "  <tbody>\n",
       "    <tr>\n",
       "      <th>0</th>\n",
       "      <td>1</td>\n",
       "      <td>트렌드 코리아 2022</td>\n",
       "      <td>김난도(金蘭都), 전미영, 최지혜, 이향은, 이준영</td>\n",
       "      <td>미래의창</td>\n",
       "      <td>16200</td>\n",
       "      <td>211006</td>\n",
       "      <td>452</td>\n",
       "    </tr>\n",
       "    <tr>\n",
       "      <th>1</th>\n",
       "      <td>2</td>\n",
       "      <td>2022 현직교사들이 들려주는 면접레시피</td>\n",
       "      <td>류은진, 양왕경, 이광한, 이지혜, 양왕경, 이광한, 이지혜</td>\n",
       "      <td>미래가치</td>\n",
       "      <td>42300</td>\n",
       "      <td>211112</td>\n",
       "      <td>1104</td>\n",
       "    </tr>\n",
       "    <tr>\n",
       "      <th>2</th>\n",
       "      <td>3</td>\n",
       "      <td>아직 오지 않은 날들을 위하여</td>\n",
       "      <td>파스칼 브뤼크네르/이세진 역</td>\n",
       "      <td>인플루엔셜</td>\n",
       "      <td>14400</td>\n",
       "      <td>211112</td>\n",
       "      <td>320</td>\n",
       "    </tr>\n",
       "    <tr>\n",
       "      <th>3</th>\n",
       "      <td>4</td>\n",
       "      <td>거인의 포트폴리오</td>\n",
       "      <td>강환국</td>\n",
       "      <td>페이지2북스</td>\n",
       "      <td>16200</td>\n",
       "      <td>211108</td>\n",
       "      <td>404</td>\n",
       "    </tr>\n",
       "    <tr>\n",
       "      <th>4</th>\n",
       "      <td>5</td>\n",
       "      <td>불편한 편의점(15만부 기념 윈터 에디션)</td>\n",
       "      <td>김호연</td>\n",
       "      <td>나무옆의자</td>\n",
       "      <td>12600</td>\n",
       "      <td>210420</td>\n",
       "      <td>268</td>\n",
       "    </tr>\n",
       "    <tr>\n",
       "      <th>5</th>\n",
       "      <td>6</td>\n",
       "      <td>거꾸로 읽는 세계사</td>\n",
       "      <td>유시민(柳時敏)</td>\n",
       "      <td>돌베개</td>\n",
       "      <td>15750</td>\n",
       "      <td>211029</td>\n",
       "      <td>404</td>\n",
       "    </tr>\n",
       "    <tr>\n",
       "      <th>6</th>\n",
       "      <td>6</td>\n",
       "      <td>달러구트 꿈 백화점</td>\n",
       "      <td>이미예</td>\n",
       "      <td>팩토리나인</td>\n",
       "      <td>12420</td>\n",
       "      <td>200708</td>\n",
       "      <td>300</td>\n",
       "    </tr>\n",
       "    <tr>\n",
       "      <th>7</th>\n",
       "      <td>8</td>\n",
       "      <td>작은 별이지만 빛나고 있어(10만 부 기념 한정판 에디션)</td>\n",
       "      <td>소윤</td>\n",
       "      <td>북로망스</td>\n",
       "      <td>13500</td>\n",
       "      <td>210929</td>\n",
       "      <td>274</td>\n",
       "    </tr>\n",
       "    <tr>\n",
       "      <th>8</th>\n",
       "      <td>9</td>\n",
       "      <td>달러구트 꿈 백화점. 2</td>\n",
       "      <td>이미예</td>\n",
       "      <td>팩토리나인</td>\n",
       "      <td>12420</td>\n",
       "      <td>210727</td>\n",
       "      <td>308</td>\n",
       "    </tr>\n",
       "    <tr>\n",
       "      <th>9</th>\n",
       "      <td>10</td>\n",
       "      <td>오십에 읽는 논어</td>\n",
       "      <td>최종엽</td>\n",
       "      <td>유노북스</td>\n",
       "      <td>14400</td>\n",
       "      <td>211103</td>\n",
       "      <td>300</td>\n",
       "    </tr>\n",
       "    <tr>\n",
       "      <th>10</th>\n",
       "      <td>11</td>\n",
       "      <td>흔한남매. 9</td>\n",
       "      <td>흔한남매, 백난도/유난희 그림</td>\n",
       "      <td>미래엔아이세움</td>\n",
       "      <td>12150</td>\n",
       "      <td>211209</td>\n",
       "      <td>192</td>\n",
       "    </tr>\n",
       "    <tr>\n",
       "      <th>11</th>\n",
       "      <td>12</td>\n",
       "      <td>투자는 디테일에 있다</td>\n",
       "      <td>김정환</td>\n",
       "      <td>부케이</td>\n",
       "      <td>16200</td>\n",
       "      <td>211210</td>\n",
       "      <td>424</td>\n",
       "    </tr>\n",
       "    <tr>\n",
       "      <th>12</th>\n",
       "      <td>12</td>\n",
       "      <td>웰씽킹(Wealthinking)</td>\n",
       "      <td>켈리 최</td>\n",
       "      <td>다산북스</td>\n",
       "      <td>14400</td>\n",
       "      <td>211110</td>\n",
       "      <td>316</td>\n",
       "    </tr>\n",
       "    <tr>\n",
       "      <th>13</th>\n",
       "      <td>14</td>\n",
       "      <td>2022 사이다 면접</td>\n",
       "      <td>이지수, 구영모, 이지수</td>\n",
       "      <td>박문각</td>\n",
       "      <td>31500</td>\n",
       "      <td>211120</td>\n",
       "      <td>624</td>\n",
       "    </tr>\n",
       "    <tr>\n",
       "      <th>14</th>\n",
       "      <td>15</td>\n",
       "      <td>미드나잇 라이브러리(25만부 기념 퍼플 에디션)</td>\n",
       "      <td>매트 헤이그/노진선 역</td>\n",
       "      <td>인플루엔셜</td>\n",
       "      <td>14220</td>\n",
       "      <td>210428</td>\n",
       "      <td>408</td>\n",
       "    </tr>\n",
       "  </tbody>\n",
       "</table>\n",
       "</div>"
      ],
      "text/plain": [
       "    No                                제목                                 저자  \\\n",
       "0    1                      트렌드 코리아 2022       김난도(金蘭都), 전미영, 최지혜, 이향은, 이준영   \n",
       "1    2            2022 현직교사들이 들려주는 면접레시피  류은진, 양왕경, 이광한, 이지혜, 양왕경, 이광한, 이지혜   \n",
       "2    3                  아직 오지 않은 날들을 위하여                    파스칼 브뤼크네르/이세진 역   \n",
       "3    4                         거인의 포트폴리오                                강환국   \n",
       "4    5           불편한 편의점(15만부 기념 윈터 에디션)                                김호연   \n",
       "5    6                        거꾸로 읽는 세계사                           유시민(柳時敏)   \n",
       "6    6                        달러구트 꿈 백화점                                이미예   \n",
       "7    8  작은 별이지만 빛나고 있어(10만 부 기념 한정판 에디션)                                 소윤   \n",
       "8    9                     달러구트 꿈 백화점. 2                                이미예   \n",
       "9   10                         오십에 읽는 논어                                최종엽   \n",
       "10  11                           흔한남매. 9                   흔한남매, 백난도/유난희 그림   \n",
       "11  12                       투자는 디테일에 있다                                김정환   \n",
       "12  12                 웰씽킹(Wealthinking)                               켈리 최   \n",
       "13  14                       2022 사이다 면접                      이지수, 구영모, 이지수   \n",
       "14  15        미드나잇 라이브러리(25만부 기념 퍼플 에디션)                       매트 헤이그/노진선 역   \n",
       "\n",
       "        출판사     가격     발행일    쪽수  \n",
       "0      미래의창  16200  211006   452  \n",
       "1      미래가치  42300  211112  1104  \n",
       "2     인플루엔셜  14400  211112   320  \n",
       "3    페이지2북스  16200  211108   404  \n",
       "4     나무옆의자  12600  210420   268  \n",
       "5       돌베개  15750  211029   404  \n",
       "6     팩토리나인  12420  200708   300  \n",
       "7      북로망스  13500  210929   274  \n",
       "8     팩토리나인  12420  210727   308  \n",
       "9      유노북스  14400  211103   300  \n",
       "10  미래엔아이세움  12150  211209   192  \n",
       "11      부케이  16200  211210   424  \n",
       "12     다산북스  14400  211110   316  \n",
       "13      박문각  31500  211120   624  \n",
       "14    인플루엔셜  14220  210428   408  "
      ]
     },
     "execution_count": 106,
     "metadata": {},
     "output_type": "execute_result"
    }
   ],
   "source": [
    "df = pd.DataFrame(lines, columns=['No','제목','저자','출판사','가격','발행일','쪽수'])\n",
    "df"
   ]
  },
  {
   "cell_type": "code",
   "execution_count": 107,
   "metadata": {},
   "outputs": [],
   "source": [
    "df.to_csv('인터파크_베스트셀러(211207).csv', index=False)"
   ]
  }
 ],
 "metadata": {
  "interpreter": {
   "hash": "79cc68648ea9c865d47a882c3abb8635bcbaad7034853949390a4dcc3b461fe2"
  },
  "kernelspec": {
   "display_name": "Python 3.8.8 64-bit ('base': conda)",
   "language": "python",
   "name": "python3"
  },
  "language_info": {
   "codemirror_mode": {
    "name": "ipython",
    "version": 3
   },
   "file_extension": ".py",
   "mimetype": "text/x-python",
   "name": "python",
   "nbconvert_exporter": "python",
   "pygments_lexer": "ipython3",
   "version": "3.8.8"
  },
  "orig_nbformat": 4
 },
 "nbformat": 4,
 "nbformat_minor": 2
}
